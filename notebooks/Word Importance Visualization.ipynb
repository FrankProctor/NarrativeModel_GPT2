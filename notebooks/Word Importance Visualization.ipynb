{
 "cells": [
  {
   "cell_type": "code",
   "execution_count": 1,
   "metadata": {},
   "outputs": [],
   "source": [
    "import torch\n",
    "from transformers import GPT2Tokenizer, GPT2LMHeadModel\n",
    "from Interpreter import Interpreter "
   ]
  },
  {
   "cell_type": "code",
   "execution_count": 2,
   "metadata": {},
   "outputs": [],
   "source": [
    "model_path = \"gpt2\"\n",
    "model = GPT2LMHeadModel.from_pretrained(model_path, output_attentions=True)\n",
    "tokenizer = GPT2Tokenizer.from_pretrained(model_path)\n",
    "\n",
    "input_embedding_weight_std = model.get_input_embeddings().weight.view(1,-1).std().item()\n",
    "model.eval()\n",
    "\n",
    "text = \"How many more times will you remember a certain afternoon of your childhood, some afternoon that's so deeply a part\"\n",
    "inputs = tokenizer.encode_plus(text, return_tensors='pt', add_special_tokens=True, add_space_before_punct_symbol=True)\n",
    "input_ids = inputs['input_ids']\n",
    "\n",
    "words = [tokenizer.decoder.get(x).strip('Ġ') for x in input_ids.tolist()[0]]\n",
    "\n",
    "with torch.no_grad():\n",
    "    x = model.get_input_embeddings()(input_ids).squeeze()\n",
    "\n",
    "def Phi(x):\n",
    "    global model\n",
    "    result = model(inputs_embeds=x)[0]\n",
    "    return result[-1,:] # return the logit of last word\n",
    "\n",
    "interpreter = Interpreter(x=x, Phi=Phi, \n",
    "                          scale=10*input_embedding_weight_std,\n",
    "                          words=words).to(model.device)"
   ]
  },
  {
   "cell_type": "code",
   "execution_count": 3,
   "metadata": {},
   "outputs": [
    {
     "name": "stderr",
     "output_type": "stream",
     "text": [
      "100%|██████████| 1000/1000 [36:47<00:00,  2.21s/it]   \n"
     ]
    }
   ],
   "source": [
    "interpreter.optimize(iteration=1000, lr=0.01, show_progress=True)"
   ]
  },
  {
   "cell_type": "code",
   "execution_count": 4,
   "metadata": {},
   "outputs": [
    {
     "data": {
      "text/plain": [
       "array([0.541841  , 1.2821257 , 1.1601733 , 1.3226551 , 1.2867883 ,\n",
       "       1.3029702 , 1.3542947 , 1.2331558 , 1.2909375 , 1.0450093 ,\n",
       "       1.0812416 , 1.3084031 , 1.0633148 , 1.1958865 , 1.3965175 ,\n",
       "       1.2421476 , 1.0326487 , 0.45266917, 0.3744312 , 0.48842564,\n",
       "       1.3544699 , 0.40084958], dtype=float32)"
      ]
     },
     "execution_count": 4,
     "metadata": {},
     "output_type": "execute_result"
    }
   ],
   "source": [
    "interpreter.get_sigma()"
   ]
  },
  {
   "cell_type": "code",
   "execution_count": 5,
   "metadata": {},
   "outputs": [
    {
     "data": {
      "image/png": "[encoded data removed]",
      "text/plain": [
       "<Figure size 432x288 with 1 Axes>"
      ]
     },
     "metadata": {
      "needs_background": "light"
     },
     "output_type": "display_data"
    }
   ],
   "source": [
    "interpreter.visualize()"
   ]
  },
  {
   "cell_type": "code",
   "execution_count": null,
   "metadata": {},
   "outputs": [],
   "source": []
  }
 ],
 "metadata": {
  "kernelspec": {
   "display_name": "Python 3",
   "language": "python",
   "name": "python3"
  },
  "language_info": {
   "codemirror_mode": {
    "name": "ipython",
    "version": 3
   },
   "file_extension": ".py",
   "mimetype": "text/x-python",
   "name": "python",
   "nbconvert_exporter": "python",
   "pygments_lexer": "ipython3",
   "version": "3.7.6"
  },
  "latex_envs": {
   "LaTeX_envs_menu_present": true,
   "autoclose": false,
   "autocomplete": true,
   "bibliofile": "biblio.bib",
   "cite_by": "apalike",
   "current_citInitial": 1,
   "eqLabelWithNumbers": true,
   "eqNumInitial": 1,
   "hotkeys": {
    "equation": "Ctrl-E",
    "itemize": "Ctrl-I"
   },
   "labels_anchors": false,
   "latex_user_defs": false,
   "report_style_numbering": false,
   "user_envs_cfg": false
  }
 },
 "nbformat": 4,
 "nbformat_minor": 4
}
